{
 "cells": [
  {
   "cell_type": "code",
   "execution_count": null,
   "id": "35692815",
   "metadata": {},
   "outputs": [],
   "source": [
    "pip install yfinance pandas ta"
   ]
  },
  {
   "cell_type": "code",
   "execution_count": null,
   "id": "1dde904b",
   "metadata": {},
   "outputs": [],
   "source": [
    "import yfinance as yf\n",
    "import pandas as pd\n",
    "from ta.momentum import RSIIndicator\n",
    "\n",
    "def get_stock_analysis(ticker):\n",
    "    stock = yf.Ticker(ticker)\n",
    "    \n",
    "    # Get historical data\n",
    "    hist = stock.history(period=\"6mo\")\n",
    "    \n",
    "    # Calculate RSI\n",
    "    rsi = RSIIndicator(close=hist['Close']).rsi()\n",
    "    latest_rsi = rsi.iloc[-1]\n",
    "    \n",
    "    # Get key metrics\n",
    "    info = stock.info\n",
    "    pe_ratio = info.get('trailingPE')\n",
    "    debt_to_equity = info.get('debtToEquity')\n",
    "    eps = info.get('trailingEps')\n",
    "    market_cap = info.get('marketCap')\n",
    "    \n",
    "    # Decision engine\n",
    "    pros, cons = [], []\n",
    "\n",
    "    if latest_rsi < 30:\n",
    "        pros.append(f\"RSI is {latest_rsi:.2f}: stock is oversold (potential buy opportunity)\")\n",
    "    elif latest_rsi > 70:\n",
    "        cons.append(f\"RSI is {latest_rsi:.2f}: stock is overbought (possible correction)\")\n",
    "\n",
    "    if pe_ratio and pe_ratio < 15:\n",
    "        pros.append(f\"P/E ratio is {pe_ratio:.2f}: undervalued compared to industry\")\n",
    "    elif pe_ratio and pe_ratio > 30:\n",
    "        cons.append(f\"P/E ratio is {pe_ratio:.2f}: may be overvalued\")\n",
    "\n",
    "    if debt_to_equity and debt_to_equity < 100:\n",
    "        pros.append(f\"Debt-to-equity ratio is {debt_to_equity:.2f}: healthy leverage\")\n",
    "    elif debt_to_equity and debt_to_equity > 200:\n",
    "        cons.append(f\"Debt-to-equity ratio is {debt_to_equity:.2f}: high financial risk\")\n",
    "\n",
    "    return {\n",
    "        \"Stock\": ticker,\n",
    "        \"Pros\": pros,\n",
    "        \"Cons\": cons,\n",
    "        \"Metrics\": {\n",
    "            \"RSI\": latest_rsi,\n",
    "            \"P/E Ratio\": pe_ratio,\n",
    "            \"Debt/Equity\": debt_to_equity,\n",
    "            \"EPS\": eps,\n",
    "            \"Market Cap\": market_cap\n",
    "        }\n",
    "    }\n",
    "\n",
    "# Example usage\n",
    "if __name__ == \"__main__\":\n",
    "    result = get_stock_analysis(\"AAPL\")\n",
    "    print(\"📈 Analysis for:\", result[\"Stock\"])\n",
    "    print(\"\\n✅ Pros:\")\n",
    "    for pro in result[\"Pros\"]:\n",
    "        print(\"-\", pro)\n",
    "    print(\"\\n⚠️ Cons:\")\n",
    "    for con in result[\"Cons\"]:\n",
    "        print(\"-\", con)\n",
    "    print(\"\\n📊 Key Metrics:\")\n",
    "    for k, v in result[\"Metrics\"].items():\n",
    "        print(f\"{k}: {v}\")\n"
   ]
  },
  {
   "cell_type": "code",
   "execution_count": null,
   "id": "7ec3e5d1",
   "metadata": {},
   "outputs": [],
   "source": [
    "pip install streamlit\n"
   ]
  },
  {
   "cell_type": "code",
   "execution_count": null,
   "id": "1fb4c774",
   "metadata": {},
   "outputs": [],
   "source": [
    "# app.py\n",
    "\n",
    "import streamlit as st\n",
    "import yfinance as yf\n",
    "from ta.momentum import RSIIndicator\n",
    "import pandas as pd\n",
    "\n",
    "def get_stock_analysis(ticker):\n",
    "    stock = yf.Ticker(ticker)\n",
    "    hist = stock.history(period=\"6mo\")\n",
    "    \n",
    "    if hist.empty:\n",
    "        return None\n",
    "\n",
    "    rsi = RSIIndicator(close=hist['Close']).rsi()\n",
    "    latest_rsi = rsi.iloc[-1]\n",
    "\n",
    "    info = stock.info\n",
    "    pe_ratio = info.get('trailingPE')\n",
    "    debt_to_equity = info.get('debtToEquity')\n",
    "    eps = info.get('trailingEps')\n",
    "    market_cap = info.get('marketCap')\n",
    "\n",
    "    pros, cons = [], []\n",
    "\n",
    "    if latest_rsi < 30:\n",
    "        pros.append(f\"RSI is {latest_rsi:.2f}: stock is oversold (potential buy opportunity)\")\n",
    "    elif latest_rsi > 70:\n",
    "        cons.append(f\"RSI is {latest_rsi:.2f}: stock is overbought (possible correction)\")\n",
    "\n",
    "    if pe_ratio and pe_ratio < 15:\n",
    "        pros.append(f\"P/E ratio is {pe_ratio:.2f}: undervalued compared to industry\")\n",
    "    elif pe_ratio and pe_ratio > 30:\n",
    "        cons.append(f\"P/E ratio is {pe_ratio:.2f}: may be overvalued\")\n",
    "\n",
    "    if debt_to_equity and debt_to_equity < 100:\n",
    "        pros.append(f\"Debt-to-equity ratio is {debt_to_equity:.2f}: healthy leverage\")\n",
    "    elif debt_to_equity and debt_to_equity > 200:\n",
    "        cons.append(f\"Debt-to-equity ratio is {debt_to_equity:.2f}: high financial risk\")\n",
    "\n",
    "    return {\n",
    "        \"Stock\": ticker.upper(),\n",
    "        \"Pros\": pros,\n",
    "        \"Cons\": cons,\n",
    "        \"Metrics\": {\n",
    "            \"RSI\": latest_rsi,\n",
    "            \"P/E Ratio\": pe_ratio,\n",
    "            \"Debt/Equity\": debt_to_equity,\n",
    "            \"EPS\": eps,\n",
    "            \"Market Cap\": market_cap\n",
    "        }\n",
    "    }\n",
    "\n",
    "# Streamlit UI\n",
    "st.title(\"📊 Explainable Stock Recommendation\")\n",
    "ticker = st.text_input(\"Enter a stock ticker (e.g., AAPL, TSLA, MSFT):\")\n",
    "\n",
    "if ticker:\n",
    "    result = get_stock_analysis(ticker)\n",
    "    if result:\n",
    "        st.subheader(f\"📈 Analysis for {result['Stock']}\")\n",
    "\n",
    "        st.markdown(\"### ✅ Pros\")\n",
    "        if result[\"Pros\"]:\n",
    "            for pro in result[\"Pros\"]:\n",
    "                st.success(pro)\n",
    "        else:\n",
    "            st.info(\"No strong positive indicators found.\")\n",
    "\n",
    "        st.markdown(\"### ⚠️ Cons\")\n",
    "        if result[\"Cons\"]:\n",
    "            for con in result[\"Cons\"]:\n",
    "                st.warning(con)\n",
    "        else:\n",
    "            st.info(\"No strong warning indicators found.\")\n",
    "\n",
    "        st.markdown(\"### 📊 Key Metrics\")\n",
    "        st.table(pd.DataFrame(result[\"Metrics\"], index=[\"Value\"]).T)\n",
    "\n",
    "    else:\n",
    "        st.error(\"Stock data not found. Please check the ticker.\")\n"
   ]
  },
  {
   "cell_type": "code",
   "execution_count": 1,
   "id": "7afae8e2",
   "metadata": {},
   "outputs": [
    {
     "name": "stdout",
     "output_type": "stream",
     "text": [
      "YF.download() has changed argument auto_adjust default to True\n"
     ]
    },
    {
     "name": "stderr",
     "output_type": "stream",
     "text": [
      "[*********************100%***********************]  1 of 1 completed\n",
      "[*********************100%***********************]  1 of 1 completed\n"
     ]
    },
    {
     "data": {
      "image/png": "[encoded data removed]",
      "text/plain": [
       "<Figure size 640x480 with 1 Axes>"
      ]
     },
     "metadata": {},
     "output_type": "display_data"
    }
   ],
   "source": [
    "import yfinance as yf\n",
    "import pandas as pd\n",
    "import matplotlib.pyplot as plt\n",
    "\n",
    "tickers = ['AAPL', 'MSFT']\n",
    "data = {ticker: yf.download(ticker, period='6mo') for ticker in tickers}\n",
    "\n",
    "for ticker in tickers:\n",
    "    plt.plot(data[ticker]['Close'], label=ticker)\n",
    "\n",
    "plt.title('Stock Price Comparison')\n",
    "plt.legend()\n",
    "plt.show()\n"
   ]
  },
  {
   "cell_type": "code",
   "execution_count": 3,
   "id": "9b3e61ea",
   "metadata": {},
   "outputs": [
    {
     "name": "stdout",
     "output_type": "stream",
     "text": [
      "Collecting textblob\n",
      "  Downloading textblob-0.19.0-py3-none-any.whl.metadata (4.4 kB)\n",
      "Collecting nltk>=3.9 (from textblob)\n",
      "  Downloading nltk-3.9.1-py3-none-any.whl.metadata (2.9 kB)\n",
      "Requirement already satisfied: click in c:\\users\\user\\anaconda3\\lib\\site-packages (from nltk>=3.9->textblob) (8.1.7)\n",
      "Requirement already satisfied: joblib in c:\\users\\user\\anaconda3\\lib\\site-packages (from nltk>=3.9->textblob) (1.4.2)\n",
      "Requirement already satisfied: regex>=2021.8.3 in c:\\users\\user\\anaconda3\\lib\\site-packages (from nltk>=3.9->textblob) (2023.10.3)\n",
      "Requirement already satisfied: tqdm in c:\\users\\user\\anaconda3\\lib\\site-packages (from nltk>=3.9->textblob) (4.66.4)\n",
      "Requirement already satisfied: colorama in c:\\users\\user\\anaconda3\\lib\\site-packages (from click->nltk>=3.9->textblob) (0.4.6)\n",
      "Downloading textblob-0.19.0-py3-none-any.whl (624 kB)\n",
      "   ---------------------------------------- 0.0/624.3 kB ? eta -:--:--\n",
      "   -- ------------------------------------ 41.0/624.3 kB 960.0 kB/s eta 0:00:01\n",
      "   ------- -------------------------------- 122.9/624.3 kB 1.8 MB/s eta 0:00:01\n",
      "   ---------------- ----------------------- 256.0/624.3 kB 2.6 MB/s eta 0:00:01\n",
      "   --------------------- ------------------ 337.9/624.3 kB 2.3 MB/s eta 0:00:01\n",
      "   ------------------------------------- -- 583.7/624.3 kB 3.1 MB/s eta 0:00:01\n",
      "   ---------------------------------------- 624.3/624.3 kB 2.8 MB/s eta 0:00:00\n",
      "Downloading nltk-3.9.1-py3-none-any.whl (1.5 MB)\n",
      "   ---------------------------------------- 0.0/1.5 MB ? eta -:--:--\n",
      "   ---- ----------------------------------- 0.2/1.5 MB 4.6 MB/s eta 0:00:01\n",
      "   ----------- ---------------------------- 0.4/1.5 MB 5.3 MB/s eta 0:00:01\n",
      "   ----------- ---------------------------- 0.5/1.5 MB 4.0 MB/s eta 0:00:01\n",
      "   ------------------- -------------------- 0.7/1.5 MB 4.7 MB/s eta 0:00:01\n",
      "   --------------------------- ------------ 1.0/1.5 MB 5.0 MB/s eta 0:00:01\n",
      "   ----------------------------- ---------- 1.1/1.5 MB 4.5 MB/s eta 0:00:01\n",
      "   ------------------------------------ --- 1.4/1.5 MB 4.6 MB/s eta 0:00:01\n",
      "   ---------------------------------------- 1.5/1.5 MB 4.3 MB/s eta 0:00:00\n",
      "Installing collected packages: nltk, textblob\n",
      "  Attempting uninstall: nltk\n",
      "    Found existing installation: nltk 3.8.1\n",
      "    Uninstalling nltk-3.8.1:\n",
      "      Successfully uninstalled nltk-3.8.1\n",
      "Successfully installed nltk-3.9.1 textblob-0.19.0\n",
      "Note: you may need to restart the kernel to use updated packages.\n"
     ]
    }
   ],
   "source": [
    "pip install textblob\n"
   ]
  },
  {
   "cell_type": "code",
   "execution_count": 8,
   "id": "b14cea2f",
   "metadata": {},
   "outputs": [
    {
     "name": "stdout",
     "output_type": "stream",
     "text": [
      "Finished.\n"
     ]
    },
    {
     "name": "stderr",
     "output_type": "stream",
     "text": [
      "[nltk_data] Downloading package brown to\n",
      "[nltk_data]     C:\\Users\\User\\AppData\\Roaming\\nltk_data...\n",
      "[nltk_data]   Unzipping corpora\\brown.zip.\n",
      "[nltk_data] Downloading package punkt_tab to\n",
      "[nltk_data]     C:\\Users\\User\\AppData\\Roaming\\nltk_data...\n",
      "[nltk_data]   Unzipping tokenizers\\punkt_tab.zip.\n",
      "[nltk_data] Downloading package wordnet to\n",
      "[nltk_data]     C:\\Users\\User\\AppData\\Roaming\\nltk_data...\n",
      "[nltk_data] Downloading package averaged_perceptron_tagger_eng to\n",
      "[nltk_data]     C:\\Users\\User\\AppData\\Roaming\\nltk_data...\n",
      "[nltk_data]   Unzipping taggers\\averaged_perceptron_tagger_eng.zip.\n",
      "[nltk_data] Downloading package conll2000 to\n",
      "[nltk_data]     C:\\Users\\User\\AppData\\Roaming\\nltk_data...\n",
      "[nltk_data]   Unzipping corpora\\conll2000.zip.\n",
      "[nltk_data] Downloading package movie_reviews to\n",
      "[nltk_data]     C:\\Users\\User\\AppData\\Roaming\\nltk_data...\n",
      "[nltk_data]   Unzipping corpora\\movie_reviews.zip.\n"
     ]
    }
   ],
   "source": [
    "!python -m textblob.download_corpora\n"
   ]
  },
  {
   "cell_type": "code",
   "execution_count": 9,
   "id": "95afd89e",
   "metadata": {},
   "outputs": [
    {
     "data": {
      "image/png": "[encoded data removed]",
      "text/plain": [
       "<Figure size 640x480 with 1 Axes>"
      ]
     },
     "metadata": {},
     "output_type": "display_data"
    }
   ],
   "source": [
    "from textblob import TextBlob\n",
    "\n",
    "articles = [\"Apple launches new product\", \"Microsoft faces lawsuit\"]\n",
    "sentiments = [TextBlob(article).sentiment.polarity for article in articles]\n",
    "\n",
    "plt.bar(['Apple', 'Microsoft'], sentiments)\n",
    "plt.title('Sentiment Score')\n",
    "plt.show()\n"
   ]
  },
  {
   "cell_type": "code",
   "execution_count": 12,
   "id": "013e69f4",
   "metadata": {},
   "outputs": [
    {
     "name": "stderr",
     "output_type": "stream",
     "text": [
      "[*********************100%***********************]  1 of 1 completed\n"
     ]
    },
    {
     "data": {
      "image/png": "[encoded data removed]",
      "text/plain": [
       "<Figure size 640x480 with 1 Axes>"
      ]
     },
     "metadata": {},
     "output_type": "display_data"
    }
   ],
   "source": [
    "import ta\n",
    "\n",
    "df = yf.download('AAPL', period='6mo')\n",
    "df['RSI'] = ta.momentum.RSIIndicator(df[('Close', 'AAPL')]).rsi()\n",
    "\n",
    "plt.plot(df['RSI'], label='RSI')\n",
    "plt.axhline(70, color='red', linestyle='--')\n",
    "plt.axhline(30, color='green', linestyle='--')\n",
    "plt.title('RSI Indicator')\n",
    "plt.legend()\n",
    "plt.show()\n"
   ]
  },
  {
   "cell_type": "code",
   "execution_count": 13,
   "id": "6553aad9",
   "metadata": {},
   "outputs": [
    {
     "name": "stdout",
     "output_type": "stream",
     "text": [
      "PE Ratio: 31.266665\n"
     ]
    }
   ],
   "source": [
    "info = yf.Ticker('AAPL').info\n",
    "print(\"PE Ratio:\", info.get(\"trailingPE\", \"N/A\"))\n"
   ]
  },
  {
   "cell_type": "code",
   "execution_count": 18,
   "id": "273def79",
   "metadata": {},
   "outputs": [
    {
     "data": {
      "application/vnd.plotly.v1+json": {
       "config": {
        "plotlyServerURL": "https://plot.ly"
       },
       "data": [
        {
         "close": [
          223.42906188964844,
          223.55862426757812,
          223.20980834960938,
          224.2563018798828,
          217.80795288085938,
          216.76148986816406,
          217.22991943359375,
          217.50897216796875,
          218.06710815429688,
          221.3361053466797,
          217.62855529785156,
          219.12353515625,
          208.5690155029297,
          206.5358428955078,
          209.1171875,
          212.59548950195312,
          215.51568603515625,
          217.0522918701172,
          220.78408813476562,
          221.23309326171875,
          224.22650146484375,
          225.5535888671875,
          225.3939208984375,
          226.0125732421875,
          225.90281677246094,
          224.0369110107422,
          226.3418426513672,
          226.68109130859375,
          227.52923583984375,
          225.99261474609375,
          229.28536987304688,
          228.49710083007812,
          222.28079223632812,
          220.36500549316406,
          221.8916473388672,
          220.33506774902344,
          220.4248809814453,
          219.62661743164062,
          222.17103576660156,
          222.28079223632812,
          222.01136779785156,
          215.84495544433594,
          216.31390380859375,
          220.20535278320312,
          228.3673858642578,
          227.6988525390625,
          225.97265625,
          226.8706817626953,
          225.8728790283203,
          227.02035522460938,
          227.2897491455078,
          232.48831176757812,
          225.71322631835938,
          226.28196716308594,
          225.17440795898438,
          226.30194091796875,
          221.2031707763672,
          225.27420043945312,
          229.03591918945312,
          228.53700256347656,
          227.05029296875,
          230.79205322265625,
          233.33645629882812,
          231.27099609375,
          231.6401824951172,
          234.4839324951172,
          235.96067810058594,
          235.342041015625,
          230.25323486328125,
          230.06365966796875,
          230.9018096923828,
          232.88743591308594,
          233.15684509277344,
          229.59469604492188,
          225.4138946533203,
          222.4204864501953,
          221.52244567871094,
          222.95928955078125,
          222.23089599609375,
          226.98043823242188,
          226.7107391357422,
          223.98373413085938,
          223.98373413085938,
          224.8727569580078,
          227.9693603515625,
          224.7528839111328,
          227.7695770263672,
          228.02928161621094,
          228.7484893798828,
          228.26902770996094,
          229.61753845214844,
          232.61424255371094,
          234.8018341064453,
          234.67198181152344,
          237.06935119628906,
          239.3268585205078,
          242.3834991455078,
          242.74310302734375,
          242.7730712890625,
          242.5732879638672,
          246.47900390625,
          247.4978790283203,
          246.2192840576172,
          247.68768310546875,
          247.85748291015625,
          250.7642822265625,
          253.20159912109375,
          247.77757263183594,
          249.51565551757812,
          254.21051025390625,
          254.98965454101562,
          257.91644287109375,
          258.7355041503906,
          255.30929565429688,
          251.9230194091797,
          250.1449737548828,
          243.5821990966797,
          243.0927276611328,
          244.73092651367188,
          241.94400024414062,
          242.43344116210938,
          236.58987426757812,
          234.14256286621094,
          233.02378845214844,
          237.60874938964844,
          228.00930786132812,
          229.7274169921875,
          222.39547729492188,
          223.58416748046875,
          223.41436767578125,
          222.5353240966797,
          229.6075439453125,
          237.99832153320312,
          239.0971221923828,
          237.3290557861328,
          235.74081420898438,
          227.75958251953125,
          232.54432678222656,
          232.21469116210938,
          232.9638671875,
          227.3800048828125,
          227.64999389648438,
          232.6199951171875,
          236.8699951171875,
          241.52999877929688,
          244.60000610351562,
          244.47000122070312,
          244.8699951171875,
          245.8300018310547,
          245.5500030517578,
          247.10000610351562,
          247.0399932861328,
          240.36000061035156,
          237.3000030517578,
          241.83999633789062,
          238.02999877929688,
          235.92999267578125,
          235.74000549316406,
          235.3300018310547,
          239.07000732421875,
          227.47999572753906,
          220.83999633789062,
          216.97999572753906,
          209.67999267578125,
          213.49000549316406,
          214,
          212.69000244140625,
          215.24000549316406,
          214.10000610351562,
          218.27000427246094,
          220.72999572753906,
          223.75,
          221.52999877929688,
          223.85000610351562,
          217.89999389648438,
          222.1300048828125,
          223.19000244140625,
          223.88999938964844,
          203.19000244140625,
          188.3800048828125,
          181.4600067138672,
          172.4199981689453,
          198.85000610351562,
          190.4199981689453,
          198.14999389648438,
          202.52000427246094,
          202.13999938964844,
          194.27000427246094,
          196.97999572753906
         ],
         "high": [
          229.66810263837593,
          226.04028896611686,
          227.01700459563804,
          226.17984506717187,
          224.04699357799979,
          220.11023564894725,
          218.7547932697213,
          218.5654190781,
          219.5919820328496,
          223.07028238181744,
          223.72805013234773,
          224.84431334230803,
          212.7848420736874,
          209.28660752946874,
          212.9243839975228,
          213.48250772924823,
          216.05387055494424,
          219.02793942662467,
          221.4027217224782,
          222.54021400164925,
          224.8551228159093,
          226.33187474025672,
          225.49370737790127,
          226.6711275207631,
          227.47934890039068,
          227.8385414771675,
          227.7188169640382,
          226.7808777924977,
          228.34744239539063,
          229.35520907583674,
          232.4085012026452,
          229.89402024722435,
          228.4971066385697,
          221.29295584608857,
          224.98483044961614,
          224.74535922490057,
          220.7840910234286,
          220.9936039050013,
          222.6000841658612,
          223.0590781064196,
          223.54797910505988,
          216.74297289953918,
          216.42366284814068,
          222.22092099435915,
          229.31531179988679,
          232.57811312113958,
          228.94610768522742,
          228.8463445678705,
          226.79085685048213,
          227.99819881641105,
          229.01596089620384,
          232.48831176757812,
          229.14565893600417,
          226.8706678098605,
          226.3119038145279,
          227.49930262356304,
          225.19438676879486,
          225.4837307412941,
          229.24546472466872,
          228.99599906464633,
          228.9062089337624,
          231.22110160659443,
          236.9684620133565,
          231.61024577942743,
          233.3364614020046,
          235.66133386929857,
          236.32987592195377,
          235.70125104779564,
          234.62362105235994,
          230.31311065070702,
          232.7078323586645,
          234.21451699403664,
          233.815399347975,
          232.95729049985403,
          229.325284321648,
          224.8551305713263,
          222.3007315284092,
          223.45819152571042,
          225.5735453041769,
          227.37956894750107,
          228.4088689967903,
          225.45212091614073,
          225.34224111445195,
          226.4010754152989,
          228.61864039722624,
          226.67077335813082,
          229.4876892234719,
          229.90722171238716,
          229.67746064503265,
          229.90722593821596,
          230.46661102927646,
          232.99383009111634,
          235.31128373473052,
          235.43115689965902,
          237.5488197625333,
          240.52553753151284,
          242.49337894569658,
          243.84190102311462,
          244.2714238935446,
          244.3613305629988,
          246.96847124510987,
          247.93739821602466,
          250.52454792031958,
          248.46682524629017,
          249.01619729452798,
          251.10392039685559,
          253.5512208135588,
          254.0007260278641,
          251.72323503929724,
          254.71994465608725,
          255.36922684225433,
          257.92641115938613,
          259.81433504408284,
          258.41589596104086,
          253.22159473829512,
          253.00183336212825,
          248.826433311358,
          243.91181916074598,
          247.05836939894766,
          245.28032844029428,
          243.44234164075266,
          239.8962364632009,
          234.41227060505477,
          235.8606656353981,
          238.6975638581554,
          237.74859991927732,
          232.03487756376998,
          224.17352112887505,
          223.87384226456615,
          226.78066167492807,
          225.38220009721186,
          231.89502211760887,
          239.9262098046868,
          239.5965730646729,
          240.52553823889048,
          246.91852728753366,
          231.5753945205246,
          232.87396618357337,
          232.4144684638066,
          233.54323203112875,
          233.74300400322835,
          230.58999633789062,
          235.22999572753906,
          236.9600067138672,
          242.33999633789062,
          245.5500030517578,
          245.17999267578125,
          246.00999450683594,
          246.77999877929688,
          248.69000244140625,
          248.86000061035156,
          250,
          244.97999572753906,
          242.4600067138672,
          242.08999633789062,
          244.02999877929688,
          240.07000732421875,
          236.5500030517578,
          237.86000061035156,
          241.3699951171875,
          236.16000366210938,
          225.83999633789062,
          221.75,
          216.83999633789062,
          213.9499969482422,
          215.22000122070312,
          215.14999389648438,
          218.75999450683594,
          217.49000549316406,
          218.83999633789062,
          221.47999572753906,
          224.10000610351562,
          225.02000427246094,
          224.99000549316406,
          223.80999755859375,
          225.6199951171875,
          223.67999267578125,
          225.19000244140625,
          207.49000549316406,
          199.8800048828125,
          194.14999389648438,
          190.33999633789062,
          200.61000061035156,
          194.77999877929688,
          199.5399932861328,
          212.94000244140625,
          203.50999450683594,
          200.6999969482422,
          198.8300018310547
         ],
         "low": [
          221.52547133243425,
          222.5320756847993,
          222.34271224556252,
          221.9341046141529,
          216.40268749627205,
          213.9010930254534,
          215.28643906297688,
          215.0273073866339,
          215.39607720378967,
          219.89096542123676,
          216.29304757526307,
          216.98074309833058,
          195.34346157584417,
          200.39648844230862,
          205.69866882998738,
          208.13050007077933,
          211.259984607228,
          215.12653755613,
          218.52904142421028,
          219.21752501736546,
          222.27079905335071,
          223.15885022096822,
          222.55017371179113,
          224.95490346311303,
          224.55579052395228,
          223.4082896744648,
          223.83736023691762,
          223.39832305195915,
          224.39613201364162,
          225.18438078371824,
          228.37737982242845,
          226.98043458769098,
          220.68429981162342,
          217.0023958735564,
          221.03353533260162,
          219.2873705935476,
          216.23410730849415,
          216.25403537150672,
          217.41150656335964,
          219.33727360197898,
          221.42266715079168,
          213.4502168549942,
          214.02893954474482,
          217.06226125375574,
          224.1367068474718,
          227.12012443578536,
          225.31410200503296,
          225.2342838755063,
          223.52804884217394,
          224.9149883158055,
          226.80083496693393,
          229.1456625683617,
          223.24864947388588,
          222.53022998119604,
          222.82957789090332,
          223.63780617480538,
          220.84396072803747,
          222.75973024040246,
          224.33627096325682,
          226.67111410985407,
          226.84074743911052,
          228.09798564307096,
          231.85969551276995,
          229.33525401328018,
          230.0137723986246,
          233.4961010856326,
          233.9351372634737,
          232.08920560922664,
          227.25982300232985,
          227.90839952304313,
          229.0658541264054,
          232.03931169048735,
          231.8098189074392,
          229.04590082483264,
          224.8750719925984,
          219.78628458026085,
          219.2275088130919,
          220.65436486265338,
          220.7042571772517,
          224.0768403097807,
          226.16134014604208,
          221.25673663335022,
          223.11469448970428,
          222.5153482196322,
          224.7528954725484,
          224.023689933323,
          224.92270099550518,
          226.41106572007726,
          225.64190448211673,
          225.46211628612434,
          227.80952873867182,
          229.48769048234254,
          233.07373841155265,
          233.55321672420507,
          233.71304074851764,
          236.89953466637493,
          238.6376176509325,
          240.9850414761411,
          241.86408229295347,
          241.8141281502541,
          241.48449521514058,
          245.0705399660552,
          245.98952569372008,
          245.41017310687806,
          245.96955931284188,
          247.3780059899919,
          249.50566587259755,
          247.46791553993853,
          246.81862390484895,
          245.42017186050566,
          253.17164603591402,
          255.0096198916901,
          257.34704665632455,
          252.78207543596488,
          250.47461491371794,
          249.15605553782555,
          241.55442975303322,
          241.624340886356,
          242.93290033169586,
          241.08494412707995,
          239.78635773622742,
          232.74409661721964,
          229.46771001708314,
          232.21468051006943,
          234.17252500331003,
          227.7795647267042,
          228.22906438809179,
          219.13906319002535,
          219.54859611049605,
          222.05586069453574,
          221.16683361690275,
          223.73399710835045,
          230.55650666713984,
          233.75299176206667,
          236.94948349745044,
          233.18362815459494,
          225.45212191586603,
          226.40107197135944,
          228.0193068583431,
          230.17692277145878,
          227.0104008794231,
          227.1999969482422,
          228.1300048828125,
          230.67999267578125,
          235.57000732421875,
          240.99000549316406,
          241.83999633789062,
          243.16000366210938,
          244.2899932861328,
          245.22000122070312,
          244.4199981689453,
          244.91000366210938,
          239.1300048828125,
          237.05999755859375,
          230.1999969482422,
          236.11000061035156,
          234.67999267578125,
          229.22999572753906,
          233.16000366210938,
          234.75999450683594,
          224.22000122070312,
          217.4499969482422,
          214.91000366210938,
          208.4199981689453,
          209.5800018310547,
          209.97000122070312,
          211.49000549316406,
          213.75,
          212.22000122070312,
          211.27999877929688,
          218.5800018310547,
          220.0800018310547,
          220.47000122070312,
          220.55999755859375,
          217.67999267578125,
          216.22999572753906,
          218.89999389648438,
          221.02000427246094,
          201.25,
          187.33999633789062,
          174.6199951171875,
          169.2100067138672,
          171.88999938964844,
          183,
          186.05999755859375,
          201.16000366210938,
          199.8000030517578,
          192.3699951171875,
          194.4199981689453
         ],
         "open": [
          229.50863493701104,
          224.06692564873424,
          226.24957960487185,
          223.61844622977043,
          223.24967028544495,
          218.19665359620475,
          217.96743096801922,
          216.23326096996,
          218.45580119769897,
          220.6982497488722,
          223.618417993468,
          218.41590675319648,
          198.42310739676375,
          204.61231506511243,
          206.2069550428707,
          212.39616246807245,
          211.38955402452135,
          215.59550663031672,
          218.52904142421028,
          220.08562480803565,
          224.10676986474735,
          223.42826155403992,
          225.22429606357244,
          225.27420804373648,
          226.0225636042008,
          227.28974628083643,
          225.16444130741013,
          226.2620154817008,
          225.50369501854036,
          227.4194670399241,
          229.59470189609323,
          229.6844899472923,
          228.04809790202157,
          221.17322424578342,
          221.14329437614535,
          223.45818364879955,
          220.3350822772696,
          218.43922835246784,
          220.97367404683663,
          222.01138090428717,
          223.08899783711732,
          216.0644583037111,
          215.27619443719672,
          217.07224903728172,
          224.49591687958383,
          229.46496974860833,
          226.8407407931877,
          228.14786961487798,
          224.43603888049125,
          226.80083714120576,
          227.9582911728241,
          229.5348054854851,
          229.0159547825387,
          225.3939223013361,
          224.64557310138042,
          227.39951613756347,
          224.0069975750027,
          223.80742742544692,
          224.73538646570117,
          227.279775108536,
          228.79644988971887,
          228.19775690140833,
          233.0969778733182,
          231.09139869260778,
          232.9173703418766,
          235.66133386929857,
          233.9351372634737,
          233.376366009758,
          233.56595129753524,
          229.4749437774939,
          229.23547896644118,
          232.80762499530724,
          232.58810476348472,
          232.09917848988178,
          228.83635490362704,
          220.48474431371312,
          220.5046966292777,
          221.31291912362707,
          222.12113695305962,
          224.13670611072257,
          226.92049995960826,
          224.7528927426808,
          224.30339000560164,
          223.76397540644066,
          224.77287777547028,
          226.15134020310103,
          225.00261496304853,
          226.73070634208972,
          227.80951934283004,
          228.6286329426038,
          227.80952873867182,
          231.2058026888721,
          233.07373841155265,
          234.21249554010248,
          234.55211454995276,
          237.00941446483552,
          239.54662188503684,
          242.60325739533934,
          243.72204013219255,
          242.6432183998472,
          241.56440918324205,
          246.61884065291167,
          247.68767076725757,
          246.61885092340057,
          247.54782582286595,
          247.71764416028498,
          249.80533943156328,
          251.88305927654196,
          247.22817727073837,
          247.76758181309805,
          254.49020366493687,
          255.2094124344067,
          257.90642916266114,
          257.54682582842287,
          251.95298524244893,
          252.16275955239965,
          248.65660659999048,
          243.0927276611328,
          244.04168187374515,
          242.71314361950866,
          241.65429905026372,
          239.7463920626497,
          233.27352322575203,
          234.49217517741417,
          234.38230107288462,
          237.089336348529,
          231.86506609768284,
          223.75398423747347,
          219.54859611049605,
          224.493183388126,
          224.53312753788666,
          223.77396171163917,
          230.59647127201654,
          233.86287156365174,
          238.40787147181928,
          246.91852728753366,
          229.73741895869952,
          227.00041910872287,
          228.27901582634638,
          231.0359788855247,
          232.3445476829273,
          229.57000732421875,
          228.1999969482422,
          231.1999969482422,
          236.91000366210938,
          241.25,
          244.14999389648438,
          244.66000366210938,
          244.94000244140625,
          245.9499969482422,
          244.92999267578125,
          248,
          244.3300018310547,
          239.41000366210938,
          236.9499969482422,
          241.7899932861328,
          237.7100067138672,
          235.4199981689453,
          234.44000244140625,
          235.11000061035156,
          235.5399932861328,
          223.80999755859375,
          220.13999938964844,
          215.9499969482422,
          211.25,
          213.30999755859375,
          214.16000366210938,
          214.22000122070312,
          213.99000549316406,
          211.55999755859375,
          221,
          220.77000427246094,
          223.50999450683594,
          221.38999938964844,
          221.6699981689453,
          217.00999450683594,
          219.80999755859375,
          221.32000732421875,
          205.5399932861328,
          193.88999938964844,
          177.1999969482422,
          186.6999969482422,
          171.9499969482422,
          189.07000732421875,
          186.10000610351562,
          211.44000244140625,
          201.86000061035156,
          198.36000061035156,
          197.1999969482422
         ],
         "type": "candlestick",
         "x": [
          "2024-07-18T00:00:00",
          "2024-07-19T00:00:00",
          "2024-07-22T00:00:00",
          "2024-07-23T00:00:00",
          "2024-07-24T00:00:00",
          "2024-07-25T00:00:00",
          "2024-07-26T00:00:00",
          "2024-07-29T00:00:00",
          "2024-07-30T00:00:00",
          "2024-07-31T00:00:00",
          "2024-08-01T00:00:00",
          "2024-08-02T00:00:00",
          "2024-08-05T00:00:00",
          "2024-08-06T00:00:00",
          "2024-08-07T00:00:00",
          "2024-08-08T00:00:00",
          "2024-08-09T00:00:00",
          "2024-08-12T00:00:00",
          "2024-08-13T00:00:00",
          "2024-08-14T00:00:00",
          "2024-08-15T00:00:00",
          "2024-08-16T00:00:00",
          "2024-08-19T00:00:00",
          "2024-08-20T00:00:00",
          "2024-08-21T00:00:00",
          "2024-08-22T00:00:00",
          "2024-08-23T00:00:00",
          "2024-08-26T00:00:00",
          "2024-08-27T00:00:00",
          "2024-08-28T00:00:00",
          "2024-08-29T00:00:00",
          "2024-08-30T00:00:00",
          "2024-09-03T00:00:00",
          "2024-09-04T00:00:00",
          "2024-09-05T00:00:00",
          "2024-09-06T00:00:00",
          "2024-09-09T00:00:00",
          "2024-09-10T00:00:00",
          "2024-09-11T00:00:00",
          "2024-09-12T00:00:00",
          "2024-09-13T00:00:00",
          "2024-09-16T00:00:00",
          "2024-09-17T00:00:00",
          "2024-09-18T00:00:00",
          "2024-09-19T00:00:00",
          "2024-09-20T00:00:00",
          "2024-09-23T00:00:00",
          "2024-09-24T00:00:00",
          "2024-09-25T00:00:00",
          "2024-09-26T00:00:00",
          "2024-09-27T00:00:00",
          "2024-09-30T00:00:00",
          "2024-10-01T00:00:00",
          "2024-10-02T00:00:00",
          "2024-10-03T00:00:00",
          "2024-10-04T00:00:00",
          "2024-10-07T00:00:00",
          "2024-10-08T00:00:00",
          "2024-10-09T00:00:00",
          "2024-10-10T00:00:00",
          "2024-10-11T00:00:00",
          "2024-10-14T00:00:00",
          "2024-10-15T00:00:00",
          "2024-10-16T00:00:00",
          "2024-10-17T00:00:00",
          "2024-10-18T00:00:00",
          "2024-10-21T00:00:00",
          "2024-10-22T00:00:00",
          "2024-10-23T00:00:00",
          "2024-10-24T00:00:00",
          "2024-10-25T00:00:00",
          "2024-10-28T00:00:00",
          "2024-10-29T00:00:00",
          "2024-10-30T00:00:00",
          "2024-10-31T00:00:00",
          "2024-11-01T00:00:00",
          "2024-11-04T00:00:00",
          "2024-11-05T00:00:00",
          "2024-11-06T00:00:00",
          "2024-11-07T00:00:00",
          "2024-11-08T00:00:00",
          "2024-11-11T00:00:00",
          "2024-11-12T00:00:00",
          "2024-11-13T00:00:00",
          "2024-11-14T00:00:00",
          "2024-11-15T00:00:00",
          "2024-11-18T00:00:00",
          "2024-11-19T00:00:00",
          "2024-11-20T00:00:00",
          "2024-11-21T00:00:00",
          "2024-11-22T00:00:00",
          "2024-11-25T00:00:00",
          "2024-11-26T00:00:00",
          "2024-11-27T00:00:00",
          "2024-11-29T00:00:00",
          "2024-12-02T00:00:00",
          "2024-12-03T00:00:00",
          "2024-12-04T00:00:00",
          "2024-12-05T00:00:00",
          "2024-12-06T00:00:00",
          "2024-12-09T00:00:00",
          "2024-12-10T00:00:00",
          "2024-12-11T00:00:00",
          "2024-12-12T00:00:00",
          "2024-12-13T00:00:00",
          "2024-12-16T00:00:00",
          "2024-12-17T00:00:00",
          "2024-12-18T00:00:00",
          "2024-12-19T00:00:00",
          "2024-12-20T00:00:00",
          "2024-12-23T00:00:00",
          "2024-12-24T00:00:00",
          "2024-12-26T00:00:00",
          "2024-12-27T00:00:00",
          "2024-12-30T00:00:00",
          "2024-12-31T00:00:00",
          "2025-01-02T00:00:00",
          "2025-01-03T00:00:00",
          "2025-01-06T00:00:00",
          "2025-01-07T00:00:00",
          "2025-01-08T00:00:00",
          "2025-01-10T00:00:00",
          "2025-01-13T00:00:00",
          "2025-01-14T00:00:00",
          "2025-01-15T00:00:00",
          "2025-01-16T00:00:00",
          "2025-01-17T00:00:00",
          "2025-01-21T00:00:00",
          "2025-01-22T00:00:00",
          "2025-01-23T00:00:00",
          "2025-01-24T00:00:00",
          "2025-01-27T00:00:00",
          "2025-01-28T00:00:00",
          "2025-01-29T00:00:00",
          "2025-01-30T00:00:00",
          "2025-01-31T00:00:00",
          "2025-02-03T00:00:00",
          "2025-02-04T00:00:00",
          "2025-02-05T00:00:00",
          "2025-02-06T00:00:00",
          "2025-02-07T00:00:00",
          "2025-02-10T00:00:00",
          "2025-02-11T00:00:00",
          "2025-02-12T00:00:00",
          "2025-02-13T00:00:00",
          "2025-02-14T00:00:00",
          "2025-02-18T00:00:00",
          "2025-02-19T00:00:00",
          "2025-02-20T00:00:00",
          "2025-02-21T00:00:00",
          "2025-02-24T00:00:00",
          "2025-02-25T00:00:00",
          "2025-02-26T00:00:00",
          "2025-02-27T00:00:00",
          "2025-02-28T00:00:00",
          "2025-03-03T00:00:00",
          "2025-03-04T00:00:00",
          "2025-03-05T00:00:00",
          "2025-03-06T00:00:00",
          "2025-03-07T00:00:00",
          "2025-03-10T00:00:00",
          "2025-03-11T00:00:00",
          "2025-03-12T00:00:00",
          "2025-03-13T00:00:00",
          "2025-03-14T00:00:00",
          "2025-03-17T00:00:00",
          "2025-03-18T00:00:00",
          "2025-03-19T00:00:00",
          "2025-03-20T00:00:00",
          "2025-03-21T00:00:00",
          "2025-03-24T00:00:00",
          "2025-03-25T00:00:00",
          "2025-03-26T00:00:00",
          "2025-03-27T00:00:00",
          "2025-03-28T00:00:00",
          "2025-03-31T00:00:00",
          "2025-04-01T00:00:00",
          "2025-04-02T00:00:00",
          "2025-04-03T00:00:00",
          "2025-04-04T00:00:00",
          "2025-04-07T00:00:00",
          "2025-04-08T00:00:00",
          "2025-04-09T00:00:00",
          "2025-04-10T00:00:00",
          "2025-04-11T00:00:00",
          "2025-04-14T00:00:00",
          "2025-04-15T00:00:00",
          "2025-04-16T00:00:00",
          "2025-04-17T00:00:00"
         ]
        }
       ],
       "layout": {
        "template": {
         "data": {
          "bar": [
           {
            "error_x": {
             "color": "#2a3f5f"
            },
            "error_y": {
             "color": "#2a3f5f"
            },
            "marker": {
             "line": {
              "color": "#E5ECF6",
              "width": 0.5
             },
             "pattern": {
              "fillmode": "overlay",
              "size": 10,
              "solidity": 0.2
             }
            },
            "type": "bar"
           }
          ],
          "barpolar": [
           {
            "marker": {
             "line": {
              "color": "#E5ECF6",
              "width": 0.5
             },
             "pattern": {
              "fillmode": "overlay",
              "size": 10,
              "solidity": 0.2
             }
            },
            "type": "barpolar"
           }
          ],
          "carpet": [
           {
            "aaxis": {
             "endlinecolor": "#2a3f5f",
             "gridcolor": "white",
             "linecolor": "white",
             "minorgridcolor": "white",
             "startlinecolor": "#2a3f5f"
            },
            "baxis": {
             "endlinecolor": "#2a3f5f",
             "gridcolor": "white",
             "linecolor": "white",
             "minorgridcolor": "white",
             "startlinecolor": "#2a3f5f"
            },
            "type": "carpet"
           }
          ],
          "choropleth": [
           {
            "colorbar": {
             "outlinewidth": 0,
             "ticks": ""
            },
            "type": "choropleth"
           }
          ],
          "contour": [
           {
            "colorbar": {
             "outlinewidth": 0,
             "ticks": ""
            },
            "colorscale": [
             [
              0,
              "#0d0887"
             ],
             [
              0.1111111111111111,
              "#46039f"
             ],
             [
              0.2222222222222222,
              "#7201a8"
             ],
             [
              0.3333333333333333,
              "#9c179e"
             ],
             [
              0.4444444444444444,
              "#bd3786"
             ],
             [
              0.5555555555555556,
              "#d8576b"
             ],
             [
              0.6666666666666666,
              "#ed7953"
             ],
             [
              0.7777777777777778,
              "#fb9f3a"
             ],
             [
              0.8888888888888888,
              "#fdca26"
             ],
             [
              1,
              "#f0f921"
             ]
            ],
            "type": "contour"
           }
          ],
          "contourcarpet": [
           {
            "colorbar": {
             "outlinewidth": 0,
             "ticks": ""
            },
            "type": "contourcarpet"
           }
          ],
          "heatmap": [
           {
            "colorbar": {
             "outlinewidth": 0,
             "ticks": ""
            },
            "colorscale": [
             [
              0,
              "#0d0887"
             ],
             [
              0.1111111111111111,
              "#46039f"
             ],
             [
              0.2222222222222222,
              "#7201a8"
             ],
             [
              0.3333333333333333,
              "#9c179e"
             ],
             [
              0.4444444444444444,
              "#bd3786"
             ],
             [
              0.5555555555555556,
              "#d8576b"
             ],
             [
              0.6666666666666666,
              "#ed7953"
             ],
             [
              0.7777777777777778,
              "#fb9f3a"
             ],
             [
              0.8888888888888888,
              "#fdca26"
             ],
             [
              1,
              "#f0f921"
             ]
            ],
            "type": "heatmap"
           }
          ],
          "heatmapgl": [
           {
            "colorbar": {
             "outlinewidth": 0,
             "ticks": ""
            },
            "colorscale": [
             [
              0,
              "#0d0887"
             ],
             [
              0.1111111111111111,
              "#46039f"
             ],
             [
              0.2222222222222222,
              "#7201a8"
             ],
             [
              0.3333333333333333,
              "#9c179e"
             ],
             [
              0.4444444444444444,
              "#bd3786"
             ],
             [
              0.5555555555555556,
              "#d8576b"
             ],
             [
              0.6666666666666666,
              "#ed7953"
             ],
             [
              0.7777777777777778,
              "#fb9f3a"
             ],
             [
              0.8888888888888888,
              "#fdca26"
             ],
             [
              1,
              "#f0f921"
             ]
            ],
            "type": "heatmapgl"
           }
          ],
          "histogram": [
           {
            "marker": {
             "pattern": {
              "fillmode": "overlay",
              "size": 10,
              "solidity": 0.2
             }
            },
            "type": "histogram"
           }
          ],
          "histogram2d": [
           {
            "colorbar": {
             "outlinewidth": 0,
             "ticks": ""
            },
            "colorscale": [
             [
              0,
              "#0d0887"
             ],
             [
              0.1111111111111111,
              "#46039f"
             ],
             [
              0.2222222222222222,
              "#7201a8"
             ],
             [
              0.3333333333333333,
              "#9c179e"
             ],
             [
              0.4444444444444444,
              "#bd3786"
             ],
             [
              0.5555555555555556,
              "#d8576b"
             ],
             [
              0.6666666666666666,
              "#ed7953"
             ],
             [
              0.7777777777777778,
              "#fb9f3a"
             ],
             [
              0.8888888888888888,
              "#fdca26"
             ],
             [
              1,
              "#f0f921"
             ]
            ],
            "type": "histogram2d"
           }
          ],
          "histogram2dcontour": [
           {
            "colorbar": {
             "outlinewidth": 0,
             "ticks": ""
            },
            "colorscale": [
             [
              0,
              "#0d0887"
             ],
             [
              0.1111111111111111,
              "#46039f"
             ],
             [
              0.2222222222222222,
              "#7201a8"
             ],
             [
              0.3333333333333333,
              "#9c179e"
             ],
             [
              0.4444444444444444,
              "#bd3786"
             ],
             [
              0.5555555555555556,
              "#d8576b"
             ],
             [
              0.6666666666666666,
              "#ed7953"
             ],
             [
              0.7777777777777778,
              "#fb9f3a"
             ],
             [
              0.8888888888888888,
              "#fdca26"
             ],
             [
              1,
              "#f0f921"
             ]
            ],
            "type": "histogram2dcontour"
           }
          ],
          "mesh3d": [
           {
            "colorbar": {
             "outlinewidth": 0,
             "ticks": ""
            },
            "type": "mesh3d"
           }
          ],
          "parcoords": [
           {
            "line": {
             "colorbar": {
              "outlinewidth": 0,
              "ticks": ""
             }
            },
            "type": "parcoords"
           }
          ],
          "pie": [
           {
            "automargin": true,
            "type": "pie"
           }
          ],
          "scatter": [
           {
            "fillpattern": {
             "fillmode": "overlay",
             "size": 10,
             "solidity": 0.2
            },
            "type": "scatter"
           }
          ],
          "scatter3d": [
           {
            "line": {
             "colorbar": {
              "outlinewidth": 0,
              "ticks": ""
             }
            },
            "marker": {
             "colorbar": {
              "outlinewidth": 0,
              "ticks": ""
             }
            },
            "type": "scatter3d"
           }
          ],
          "scattercarpet": [
           {
            "marker": {
             "colorbar": {
              "outlinewidth": 0,
              "ticks": ""
             }
            },
            "type": "scattercarpet"
           }
          ],
          "scattergeo": [
           {
            "marker": {
             "colorbar": {
              "outlinewidth": 0,
              "ticks": ""
             }
            },
            "type": "scattergeo"
           }
          ],
          "scattergl": [
           {
            "marker": {
             "colorbar": {
              "outlinewidth": 0,
              "ticks": ""
             }
            },
            "type": "scattergl"
           }
          ],
          "scattermapbox": [
           {
            "marker": {
             "colorbar": {
              "outlinewidth": 0,
              "ticks": ""
             }
            },
            "type": "scattermapbox"
           }
          ],
          "scatterpolar": [
           {
            "marker": {
             "colorbar": {
              "outlinewidth": 0,
              "ticks": ""
             }
            },
            "type": "scatterpolar"
           }
          ],
          "scatterpolargl": [
           {
            "marker": {
             "colorbar": {
              "outlinewidth": 0,
              "ticks": ""
             }
            },
            "type": "scatterpolargl"
           }
          ],
          "scatterternary": [
           {
            "marker": {
             "colorbar": {
              "outlinewidth": 0,
              "ticks": ""
             }
            },
            "type": "scatterternary"
           }
          ],
          "surface": [
           {
            "colorbar": {
             "outlinewidth": 0,
             "ticks": ""
            },
            "colorscale": [
             [
              0,
              "#0d0887"
             ],
             [
              0.1111111111111111,
              "#46039f"
             ],
             [
              0.2222222222222222,
              "#7201a8"
             ],
             [
              0.3333333333333333,
              "#9c179e"
             ],
             [
              0.4444444444444444,
              "#bd3786"
             ],
             [
              0.5555555555555556,
              "#d8576b"
             ],
             [
              0.6666666666666666,
              "#ed7953"
             ],
             [
              0.7777777777777778,
              "#fb9f3a"
             ],
             [
              0.8888888888888888,
              "#fdca26"
             ],
             [
              1,
              "#f0f921"
             ]
            ],
            "type": "surface"
           }
          ],
          "table": [
           {
            "cells": {
             "fill": {
              "color": "#EBF0F8"
             },
             "line": {
              "color": "white"
             }
            },
            "header": {
             "fill": {
              "color": "#C8D4E3"
             },
             "line": {
              "color": "white"
             }
            },
            "type": "table"
           }
          ]
         },
         "layout": {
          "annotationdefaults": {
           "arrowcolor": "#2a3f5f",
           "arrowhead": 0,
           "arrowwidth": 1
          },
          "autotypenumbers": "strict",
          "coloraxis": {
           "colorbar": {
            "outlinewidth": 0,
            "ticks": ""
           }
          },
          "colorscale": {
           "diverging": [
            [
             0,
             "#8e0152"
            ],
            [
             0.1,
             "#c51b7d"
            ],
            [
             0.2,
             "#de77ae"
            ],
            [
             0.3,
             "#f1b6da"
            ],
            [
             0.4,
             "#fde0ef"
            ],
            [
             0.5,
             "#f7f7f7"
            ],
            [
             0.6,
             "#e6f5d0"
            ],
            [
             0.7,
             "#b8e186"
            ],
            [
             0.8,
             "#7fbc41"
            ],
            [
             0.9,
             "#4d9221"
            ],
            [
             1,
             "#276419"
            ]
           ],
           "sequential": [
            [
             0,
             "#0d0887"
            ],
            [
             0.1111111111111111,
             "#46039f"
            ],
            [
             0.2222222222222222,
             "#7201a8"
            ],
            [
             0.3333333333333333,
             "#9c179e"
            ],
            [
             0.4444444444444444,
             "#bd3786"
            ],
            [
             0.5555555555555556,
             "#d8576b"
            ],
            [
             0.6666666666666666,
             "#ed7953"
            ],
            [
             0.7777777777777778,
             "#fb9f3a"
            ],
            [
             0.8888888888888888,
             "#fdca26"
            ],
            [
             1,
             "#f0f921"
            ]
           ],
           "sequentialminus": [
            [
             0,
             "#0d0887"
            ],
            [
             0.1111111111111111,
             "#46039f"
            ],
            [
             0.2222222222222222,
             "#7201a8"
            ],
            [
             0.3333333333333333,
             "#9c179e"
            ],
            [
             0.4444444444444444,
             "#bd3786"
            ],
            [
             0.5555555555555556,
             "#d8576b"
            ],
            [
             0.6666666666666666,
             "#ed7953"
            ],
            [
             0.7777777777777778,
             "#fb9f3a"
            ],
            [
             0.8888888888888888,
             "#fdca26"
            ],
            [
             1,
             "#f0f921"
            ]
           ]
          },
          "colorway": [
           "#636efa",
           "#EF553B",
           "#00cc96",
           "#ab63fa",
           "#FFA15A",
           "#19d3f3",
           "#FF6692",
           "#B6E880",
           "#FF97FF",
           "#FECB52"
          ],
          "font": {
           "color": "#2a3f5f"
          },
          "geo": {
           "bgcolor": "white",
           "lakecolor": "white",
           "landcolor": "#E5ECF6",
           "showlakes": true,
           "showland": true,
           "subunitcolor": "white"
          },
          "hoverlabel": {
           "align": "left"
          },
          "hovermode": "closest",
          "mapbox": {
           "style": "light"
          },
          "paper_bgcolor": "white",
          "plot_bgcolor": "#E5ECF6",
          "polar": {
           "angularaxis": {
            "gridcolor": "white",
            "linecolor": "white",
            "ticks": ""
           },
           "bgcolor": "#E5ECF6",
           "radialaxis": {
            "gridcolor": "white",
            "linecolor": "white",
            "ticks": ""
           }
          },
          "scene": {
           "xaxis": {
            "backgroundcolor": "#E5ECF6",
            "gridcolor": "white",
            "gridwidth": 2,
            "linecolor": "white",
            "showbackground": true,
            "ticks": "",
            "zerolinecolor": "white"
           },
           "yaxis": {
            "backgroundcolor": "#E5ECF6",
            "gridcolor": "white",
            "gridwidth": 2,
            "linecolor": "white",
            "showbackground": true,
            "ticks": "",
            "zerolinecolor": "white"
           },
           "zaxis": {
            "backgroundcolor": "#E5ECF6",
            "gridcolor": "white",
            "gridwidth": 2,
            "linecolor": "white",
            "showbackground": true,
            "ticks": "",
            "zerolinecolor": "white"
           }
          },
          "shapedefaults": {
           "line": {
            "color": "#2a3f5f"
           }
          },
          "ternary": {
           "aaxis": {
            "gridcolor": "white",
            "linecolor": "white",
            "ticks": ""
           },
           "baxis": {
            "gridcolor": "white",
            "linecolor": "white",
            "ticks": ""
           },
           "bgcolor": "#E5ECF6",
           "caxis": {
            "gridcolor": "white",
            "linecolor": "white",
            "ticks": ""
           }
          },
          "title": {
           "x": 0.05
          },
          "xaxis": {
           "automargin": true,
           "gridcolor": "white",
           "linecolor": "white",
           "ticks": "",
           "title": {
            "standoff": 15
           },
           "zerolinecolor": "white",
           "zerolinewidth": 2
          },
          "yaxis": {
           "automargin": true,
           "gridcolor": "white",
           "linecolor": "white",
           "ticks": "",
           "title": {
            "standoff": 15
           },
           "zerolinecolor": "white",
           "zerolinewidth": 2
          }
         }
        },
        "title": {
         "text": "Candlestick Chart"
        },
        "xaxis": {
         "title": {
          "text": "Date"
         }
        },
        "yaxis": {
         "title": {
          "text": "Price"
         }
        }
       }
      }
     },
     "metadata": {},
     "output_type": "display_data"
    }
   ],
   "source": [
    "import plotly.graph_objects as go\n",
    "\n",
    "# Ensure the DataFrame has the correct structure\n",
    "if isinstance(df.columns, pd.MultiIndex):\n",
    "    # Access the correct columns for AAPL\n",
    "    fig = go.Figure(data=[go.Candlestick(\n",
    "        x=df.index,\n",
    "        open=df[('Open', 'AAPL')],\n",
    "        high=df[('High', 'AAPL')],\n",
    "        low=df[('Low', 'AAPL')],\n",
    "        close=df[('Close', 'AAPL')]\n",
    "    )])\n",
    "else:\n",
    "    # If single-level columns, use them directly\n",
    "    fig = go.Figure(data=[go.Candlestick(\n",
    "        x=df.index,\n",
    "        open=df['Open'],\n",
    "        high=df['High'],\n",
    "        low=df['Low'],\n",
    "        close=df['Close']\n",
    "    )])\n",
    "\n",
    "fig.update_layout(title='Candlestick Chart', xaxis_title='Date', yaxis_title='Price')\n",
    "fig.show()"
   ]
  },
  {
   "cell_type": "code",
   "execution_count": 20,
   "id": "26818763",
   "metadata": {},
   "outputs": [
    {
     "name": "stdout",
     "output_type": "stream",
     "text": [
      "Collecting shapNote: you may need to restart the kernel to use updated packages.\n",
      "\n",
      "  Downloading shap-0.47.2-cp312-cp312-win_amd64.whl.metadata (25 kB)\n",
      "Requirement already satisfied: numpy in c:\\users\\user\\anaconda3\\lib\\site-packages (from shap) (1.26.4)\n",
      "Requirement already satisfied: scipy in c:\\users\\user\\anaconda3\\lib\\site-packages (from shap) (1.13.1)\n",
      "Requirement already satisfied: scikit-learn in c:\\users\\user\\anaconda3\\lib\\site-packages (from shap) (1.4.2)\n",
      "Requirement already satisfied: pandas in c:\\users\\user\\anaconda3\\lib\\site-packages (from shap) (2.2.2)\n",
      "Requirement already satisfied: tqdm>=4.27.0 in c:\\users\\user\\anaconda3\\lib\\site-packages (from shap) (4.66.4)\n",
      "Requirement already satisfied: packaging>20.9 in c:\\users\\user\\anaconda3\\lib\\site-packages (from shap) (23.2)\n",
      "Collecting slicer==0.0.8 (from shap)\n",
      "  Downloading slicer-0.0.8-py3-none-any.whl.metadata (4.0 kB)\n",
      "Requirement already satisfied: numba>=0.54 in c:\\users\\user\\anaconda3\\lib\\site-packages (from shap) (0.59.1)\n",
      "Requirement already satisfied: cloudpickle in c:\\users\\user\\anaconda3\\lib\\site-packages (from shap) (2.2.1)\n",
      "Requirement already satisfied: typing-extensions in c:\\users\\user\\anaconda3\\lib\\site-packages (from shap) (4.11.0)\n",
      "Requirement already satisfied: llvmlite<0.43,>=0.42.0dev0 in c:\\users\\user\\anaconda3\\lib\\site-packages (from numba>=0.54->shap) (0.42.0)\n",
      "Requirement already satisfied: colorama in c:\\users\\user\\anaconda3\\lib\\site-packages (from tqdm>=4.27.0->shap) (0.4.6)\n",
      "Requirement already satisfied: python-dateutil>=2.8.2 in c:\\users\\user\\anaconda3\\lib\\site-packages (from pandas->shap) (2.9.0.post0)\n",
      "Requirement already satisfied: pytz>=2020.1 in c:\\users\\user\\anaconda3\\lib\\site-packages (from pandas->shap) (2024.1)\n",
      "Requirement already satisfied: tzdata>=2022.7 in c:\\users\\user\\anaconda3\\lib\\site-packages (from pandas->shap) (2023.3)\n",
      "Requirement already satisfied: joblib>=1.2.0 in c:\\users\\user\\anaconda3\\lib\\site-packages (from scikit-learn->shap) (1.4.2)\n",
      "Requirement already satisfied: threadpoolctl>=2.0.0 in c:\\users\\user\\anaconda3\\lib\\site-packages (from scikit-learn->shap) (2.2.0)\n",
      "Requirement already satisfied: six>=1.5 in c:\\users\\user\\anaconda3\\lib\\site-packages (from python-dateutil>=2.8.2->pandas->shap) (1.16.0)\n",
      "Downloading shap-0.47.2-cp312-cp312-win_amd64.whl (545 kB)\n",
      "   ---------------------------------------- 0.0/545.2 kB ? eta -:--:--\n",
      "   ----- ---------------------------------- 71.7/545.2 kB 2.0 MB/s eta 0:00:01\n",
      "   --------------- ------------------------ 204.8/545.2 kB 2.5 MB/s eta 0:00:01\n",
      "   --------------------- ------------------ 286.7/545.2 kB 2.5 MB/s eta 0:00:01\n",
      "   --------------------------------- ------ 450.6/545.2 kB 2.8 MB/s eta 0:00:01\n",
      "   ---------------------------------------- 545.2/545.2 kB 2.9 MB/s eta 0:00:00\n",
      "Downloading slicer-0.0.8-py3-none-any.whl (15 kB)\n",
      "Installing collected packages: slicer, shap\n",
      "Successfully installed shap-0.47.2 slicer-0.0.8\n"
     ]
    }
   ],
   "source": [
    "pip install shap"
   ]
  },
  {
   "cell_type": "code",
   "execution_count": 23,
   "id": "42caf72d",
   "metadata": {},
   "outputs": [
    {
     "name": "stdout",
     "output_type": "stream",
     "text": [
      "Requirement already satisfied: lime in c:\\users\\user\\anaconda3\\lib\\site-packages (0.2.0.1)\n",
      "Collecting xgboost\n",
      "  Using cached xgboost-3.0.0-py3-none-win_amd64.whl.metadata (2.1 kB)\n",
      "Requirement already satisfied: matplotlib in c:\\users\\user\\anaconda3\\lib\\site-packages (from lime) (3.8.4)\n",
      "Requirement already satisfied: numpy in c:\\users\\user\\anaconda3\\lib\\site-packages (from lime) (1.26.4)\n",
      "Requirement already satisfied: scipy in c:\\users\\user\\anaconda3\\lib\\site-packages (from lime) (1.13.1)\n",
      "Requirement already satisfied: tqdm in c:\\users\\user\\anaconda3\\lib\\site-packages (from lime) (4.66.4)\n",
      "Requirement already satisfied: scikit-learn>=0.18 in c:\\users\\user\\anaconda3\\lib\\site-packages (from lime) (1.4.2)\n",
      "Requirement already satisfied: scikit-image>=0.12 in c:\\users\\user\\anaconda3\\lib\\site-packages (from lime) (0.23.2)\n",
      "Requirement already satisfied: networkx>=2.8 in c:\\users\\user\\anaconda3\\lib\\site-packages (from scikit-image>=0.12->lime) (3.2.1)\n",
      "Requirement already satisfied: pillow>=9.1 in c:\\users\\user\\anaconda3\\lib\\site-packages (from scikit-image>=0.12->lime) (10.3.0)\n",
      "Requirement already satisfied: imageio>=2.33 in c:\\users\\user\\anaconda3\\lib\\site-packages (from scikit-image>=0.12->lime) (2.33.1)\n",
      "Requirement already satisfied: tifffile>=2022.8.12 in c:\\users\\user\\anaconda3\\lib\\site-packages (from scikit-image>=0.12->lime) (2023.4.12)\n",
      "Requirement already satisfied: packaging>=21 in c:\\users\\user\\anaconda3\\lib\\site-packages (from scikit-image>=0.12->lime) (23.2)\n",
      "Requirement already satisfied: lazy-loader>=0.4 in c:\\users\\user\\anaconda3\\lib\\site-packages (from scikit-image>=0.12->lime) (0.4)\n",
      "Requirement already satisfied: joblib>=1.2.0 in c:\\users\\user\\anaconda3\\lib\\site-packages (from scikit-learn>=0.18->lime) (1.4.2)\n",
      "Requirement already satisfied: threadpoolctl>=2.0.0 in c:\\users\\user\\anaconda3\\lib\\site-packages (from scikit-learn>=0.18->lime) (2.2.0)\n",
      "Requirement already satisfied: contourpy>=1.0.1 in c:\\users\\user\\anaconda3\\lib\\site-packages (from matplotlib->lime) (1.2.0)\n",
      "Requirement already satisfied: cycler>=0.10 in c:\\users\\user\\anaconda3\\lib\\site-packages (from matplotlib->lime) (0.11.0)\n",
      "Requirement already satisfied: fonttools>=4.22.0 in c:\\users\\user\\anaconda3\\lib\\site-packages (from matplotlib->lime) (4.51.0)\n",
      "Requirement already satisfied: kiwisolver>=1.3.1 in c:\\users\\user\\anaconda3\\lib\\site-packages (from matplotlib->lime) (1.4.4)\n",
      "Requirement already satisfied: pyparsing>=2.3.1 in c:\\users\\user\\anaconda3\\lib\\site-packages (from matplotlib->lime) (3.0.9)\n",
      "Requirement already satisfied: python-dateutil>=2.7 in c:\\users\\user\\anaconda3\\lib\\site-packages (from matplotlib->lime) (2.9.0.post0)\n",
      "Requirement already satisfied: colorama in c:\\users\\user\\anaconda3\\lib\\site-packages (from tqdm->lime) (0.4.6)\n",
      "Requirement already satisfied: six>=1.5 in c:\\users\\user\\anaconda3\\lib\\site-packages (from python-dateutil>=2.7->matplotlib->lime) (1.16.0)\n",
      "Using cached xgboost-3.0.0-py3-none-win_amd64.whl (150.0 MB)\n",
      "Installing collected packages: xgboost\n",
      "Successfully installed xgboost-3.0.0\n",
      "Note: you may need to restart the kernel to use updated packages.\n"
     ]
    }
   ],
   "source": [
    "pip install lime xgboost"
   ]
  },
  {
   "cell_type": "code",
   "execution_count": 25,
   "id": "edf4b3ce",
   "metadata": {},
   "outputs": [
    {
     "data": {
      "image/png": "[encoded data removed]",
      "text/plain": [
       "<Figure size 800x550 with 3 Axes>"
      ]
     },
     "metadata": {},
     "output_type": "display_data"
    }
   ],
   "source": [
    "import shap\n",
    "import xgboost as xgb\n",
    "from sklearn.model_selection import train_test_split\n",
    "from sklearn.datasets import fetch_california_housing\n",
    "\n",
    "housing = fetch_california_housing()\n",
    "X, y = housing.data, housing.target\n",
    "model = xgb.XGBRegressor().fit(X, y)\n",
    "explainer = shap.Explainer(model)\n",
    "shap_values = explainer(X)\n",
    "\n",
    "shap.plots.waterfall(shap_values[0])  # or use .summary_plot()\n"
   ]
  }
 ],
 "metadata": {
  "kernelspec": {
   "display_name": "base",
   "language": "python",
   "name": "python3"
  },
  "language_info": {
   "codemirror_mode": {
    "name": "ipython",
    "version": 3
   },
   "file_extension": ".py",
   "mimetype": "text/x-python",
   "name": "python",
   "nbconvert_exporter": "python",
   "pygments_lexer": "ipython3",
   "version": "3.12.4"
  }
 },
 "nbformat": 4,
 "nbformat_minor": 5
}
